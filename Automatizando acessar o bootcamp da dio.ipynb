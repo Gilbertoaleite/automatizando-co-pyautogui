{
 "cells": [
  {
   "cell_type": "code",
   "execution_count": 12,
   "id": "10a98028-73da-49aa-9772-b10e3f06ed1f",
   "metadata": {},
   "outputs": [
    {
     "data": {
      "text/plain": [
       "'OK'"
      ]
     },
     "execution_count": 12,
     "metadata": {},
     "output_type": "execute_result"
    }
   ],
   "source": [
    "import pyautogui\n",
    "import time\n",
    "pyautogui.alert(\"O codigo pyautogui vai começar, não mexa em nada enquanto roda\")\n",
    "pyautogui.PAUSE = 0.5\n",
    "#abrir o google chrome\n",
    "pyautogui.press('winleft')\n",
    "\n",
    "pyautogui.write('chrome')\n",
    "time.sleep(1.3)\n",
    "pyautogui.press('enter')\n",
    "time.sleep(1)\n",
    "pyautogui.write('https://web.digitalinnovation.one/')\n",
    "time.sleep(1)\n",
    "pyautogui.press('enter')\n",
    "pyautogui.moveTo(128, 651, duration=7.0)\n",
    "pyautogui.click()\n",
    "pyautogui.alert(\"Bons estudos Gilberto!\")"
   ]
  },
  {
   "cell_type": "markdown",
   "id": "227a5078-2b69-44eb-94c0-fd1cf2fcaba6",
   "metadata": {
    "tags": []
   },
   "source": [
    "pyautogui.position()  // para ver a localização do ponteiro\n",
    " "
   ]
  },
  {
   "cell_type": "markdown",
   "id": "ffa84b17-363a-4bcb-9630-54eb34cc5974",
   "metadata": {},
   "source": [
    "pyautogui.position()\n"
   ]
  },
  {
   "cell_type": "code",
   "execution_count": null,
   "id": "26e6c549-b3c5-4cd2-aa0d-1b9c282fd697",
   "metadata": {},
   "outputs": [],
   "source": []
  }
 ],
 "metadata": {
  "kernelspec": {
   "display_name": "Python 3",
   "language": "python",
   "name": "python3"
  },
  "language_info": {
   "codemirror_mode": {
    "name": "ipython",
    "version": 3
   },
   "file_extension": ".py",
   "mimetype": "text/x-python",
   "name": "python",
   "nbconvert_exporter": "python",
   "pygments_lexer": "ipython3",
   "version": "3.8.8"
  }
 },
 "nbformat": 4,
 "nbformat_minor": 5
}
